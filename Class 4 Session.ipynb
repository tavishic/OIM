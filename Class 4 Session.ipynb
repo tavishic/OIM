{
 "cells": [
  {
   "cell_type": "markdown",
   "id": "76c32c19-ecfd-4b47-80de-6387ff173c17",
   "metadata": {},
   "source": [
    "###In-Class Exercise: Stock Class (in_class_4_str.py)"
   ]
  },
  {
   "cell_type": "code",
   "execution_count": 31,
   "id": "0fa30f57-4978-4229-a3ec-b3a29c66ed01",
   "metadata": {},
   "outputs": [
    {
     "ename": "ModuleNotFoundError",
     "evalue": "No module named 'yfinance'",
     "output_type": "error",
     "traceback": [
      "\u001b[1;31m---------------------------------------------------------------------------\u001b[0m",
      "\u001b[1;31mModuleNotFoundError\u001b[0m                       Traceback (most recent call last)",
      "Cell \u001b[1;32mIn[31], line 7\u001b[0m\n\u001b[0;32m      5\u001b[0m \u001b[38;5;28;01mimport\u001b[39;00m \u001b[38;5;21;01mmatplotlib\u001b[39;00m\u001b[38;5;21;01m.\u001b[39;00m\u001b[38;5;21;01mticker\u001b[39;00m \u001b[38;5;28;01mas\u001b[39;00m \u001b[38;5;21;01mmtick\u001b[39;00m\n\u001b[0;32m      6\u001b[0m \u001b[38;5;28;01mimport\u001b[39;00m \u001b[38;5;21;01mseaborn\u001b[39;00m \u001b[38;5;28;01mas\u001b[39;00m \u001b[38;5;21;01msb\u001b[39;00m\n\u001b[1;32m----> 7\u001b[0m \u001b[38;5;28;01mimport\u001b[39;00m \u001b[38;5;21;01myfinance\u001b[39;00m \u001b[38;5;28;01mas\u001b[39;00m \u001b[38;5;21;01myf\u001b[39;00m\n",
      "\u001b[1;31mModuleNotFoundError\u001b[0m: No module named 'yfinance'"
     ]
    }
   ],
   "source": [
    "import datetime as dt\n",
    "import numpy as np\n",
    "import pandas as pd\n",
    "import matplotlib.pyplot as plt\n",
    "import matplotlib.ticker as mtick\n",
    "import seaborn as sb\n",
    "import yfinance as yf"
   ]
  },
  {
   "cell_type": "code",
   "execution_count": 21,
   "id": "1dde29bd-38eb-425c-b97d-1668ddaf696f",
   "metadata": {},
   "outputs": [],
   "source": [
    "# ===== Visualization Defaults =====\n",
    "sb.set_theme(style=\"whitegrid\", context=\"talk\")\n",
    "\n",
    "# ===== Constants =====\n",
    "DEFAULT_START = dt.date.isoformat(dt.date.today() - dt.timedelta(365))\n",
    "DEFAULT_END = dt.date.isoformat(dt.date.today())"
   ]
  },
  {
   "cell_type": "code",
   "execution_count": 29,
   "id": "ddc21cab-ccaa-43e3-85fe-afe46d23a498",
   "metadata": {},
   "outputs": [
    {
     "ename": "IndentationError",
     "evalue": "unindent does not match any outer indentation level (<string>, line 8)",
     "output_type": "error",
     "traceback": [
      "\u001b[1;36m  File \u001b[1;32m<string>:8\u001b[1;36m\u001b[0m\n\u001b[1;33m    def get_data(self):\u001b[0m\n\u001b[1;37m                       ^\u001b[0m\n\u001b[1;31mIndentationError\u001b[0m\u001b[1;31m:\u001b[0m unindent does not match any outer indentation level\n"
     ]
    }
   ],
   "source": [
    "   def __init__(self, symbol, start=DEFAULT_START, end=DEFAULT_END):\n",
    "        self.symbol = symbol\n",
    "        self.start = start\n",
    "        self.end = end\n",
    "        self.data = self.get_data()\n",
    "\n",
    "\n",
    "    def get_data(self):\n",
    "        \"\"\"method that downloads data and stores in a DataFrame\n",
    "           uncomment the code below wich should be the final two lines \n",
    "           of your method\"\"\"\n",
    "            # self.calc_returns(data)\n",
    "        # return data\n",
    "        pass\n",
    "\n",
    "    \n",
    "    def calc_returns(self, df):\n",
    "        \"\"\"method that adds change and return columns to data\"\"\"\n",
    "        pass\n",
    "\n",
    "    \n",
    "    def plot_return_dist(self):\n",
    "        \"\"\"method that plots instantaneous returns as histogram\"\"\"\n",
    "        pass\n",
    "\n",
    "\n",
    "    def plot_performance(self):\n",
    "        \"\"\"method that plots stock object performance as percent \"\"\"\n",
    "        pass\n",
    "                  \n",
    "\n",
    "\n",
    "\n",
    "def main():\n",
    "    # uncomment (remove pass) code below to test\n",
    "    # test = Stock(symbol=[stock_symbol]) # optionally test custom data range\n",
    "    # print(test.data)\n",
    "    # test.plot_performance()\n",
    "    # test.plot_return_dist()\n",
    "    pass\n",
    "\n",
    "if __name__ == '__main__':\n",
    "    main() "
   ]
  },
  {
   "cell_type": "code",
   "execution_count": null,
   "id": "9d9ef743-3e21-462e-855a-957157f87016",
   "metadata": {},
   "outputs": [],
   "source": []
  }
 ],
 "metadata": {
  "kernelspec": {
   "display_name": "Python 3 (ipykernel)",
   "language": "python",
   "name": "python3"
  },
  "language_info": {
   "codemirror_mode": {
    "name": "ipython",
    "version": 3
   },
   "file_extension": ".py",
   "mimetype": "text/x-python",
   "name": "python",
   "nbconvert_exporter": "python",
   "pygments_lexer": "ipython3",
   "version": "3.12.7"
  }
 },
 "nbformat": 4,
 "nbformat_minor": 5
}
