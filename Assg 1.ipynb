{
 "cells": [
  {
   "cell_type": "code",
   "execution_count": 1,
   "id": "73eb6712-fa26-403b-b635-efe20ad51f1d",
   "metadata": {},
   "outputs": [
    {
     "name": "stdout",
     "output_type": "stream",
     "text": [
      "Requirement already satisfied: nltk in c:\\users\\tavis\\anaconda3\\lib\\site-packages (3.9.1)\n",
      "Collecting PyPDF2\n",
      "  Downloading pypdf2-3.0.1-py3-none-any.whl.metadata (6.8 kB)\n",
      "Collecting py-readability-metrics\n",
      "  Downloading py_readability_metrics-1.4.5-py3-none-any.whl.metadata (8.8 kB)\n",
      "Collecting wordcloud\n",
      "  Downloading wordcloud-1.9.4-cp312-cp312-win_amd64.whl.metadata (3.5 kB)\n",
      "Requirement already satisfied: matplotlib in c:\\users\\tavis\\anaconda3\\lib\\site-packages (3.9.2)\n",
      "Requirement already satisfied: pandas in c:\\users\\tavis\\anaconda3\\lib\\site-packages (2.2.2)\n",
      "Requirement already satisfied: click in c:\\users\\tavis\\anaconda3\\lib\\site-packages (from nltk) (8.1.7)\n",
      "Requirement already satisfied: joblib in c:\\users\\tavis\\anaconda3\\lib\\site-packages (from nltk) (1.4.2)\n",
      "Requirement already satisfied: regex>=2021.8.3 in c:\\users\\tavis\\anaconda3\\lib\\site-packages (from nltk) (2024.9.11)\n",
      "Requirement already satisfied: tqdm in c:\\users\\tavis\\anaconda3\\lib\\site-packages (from nltk) (4.66.5)\n",
      "Requirement already satisfied: numpy>=1.6.1 in c:\\users\\tavis\\anaconda3\\lib\\site-packages (from wordcloud) (1.26.4)\n",
      "Requirement already satisfied: pillow in c:\\users\\tavis\\anaconda3\\lib\\site-packages (from wordcloud) (10.4.0)\n",
      "Requirement already satisfied: contourpy>=1.0.1 in c:\\users\\tavis\\anaconda3\\lib\\site-packages (from matplotlib) (1.2.0)\n",
      "Requirement already satisfied: cycler>=0.10 in c:\\users\\tavis\\anaconda3\\lib\\site-packages (from matplotlib) (0.11.0)\n",
      "Requirement already satisfied: fonttools>=4.22.0 in c:\\users\\tavis\\anaconda3\\lib\\site-packages (from matplotlib) (4.51.0)\n",
      "Requirement already satisfied: kiwisolver>=1.3.1 in c:\\users\\tavis\\anaconda3\\lib\\site-packages (from matplotlib) (1.4.4)\n",
      "Requirement already satisfied: packaging>=20.0 in c:\\users\\tavis\\anaconda3\\lib\\site-packages (from matplotlib) (24.1)\n",
      "Requirement already satisfied: pyparsing>=2.3.1 in c:\\users\\tavis\\anaconda3\\lib\\site-packages (from matplotlib) (3.1.2)\n",
      "Requirement already satisfied: python-dateutil>=2.7 in c:\\users\\tavis\\anaconda3\\lib\\site-packages (from matplotlib) (2.9.0.post0)\n",
      "Requirement already satisfied: pytz>=2020.1 in c:\\users\\tavis\\anaconda3\\lib\\site-packages (from pandas) (2024.1)\n",
      "Requirement already satisfied: tzdata>=2022.7 in c:\\users\\tavis\\anaconda3\\lib\\site-packages (from pandas) (2023.3)\n",
      "Requirement already satisfied: six>=1.5 in c:\\users\\tavis\\anaconda3\\lib\\site-packages (from python-dateutil>=2.7->matplotlib) (1.16.0)\n",
      "Requirement already satisfied: colorama in c:\\users\\tavis\\anaconda3\\lib\\site-packages (from click->nltk) (0.4.6)\n",
      "Downloading pypdf2-3.0.1-py3-none-any.whl (232 kB)\n",
      "Downloading py_readability_metrics-1.4.5-py3-none-any.whl (26 kB)\n",
      "Downloading wordcloud-1.9.4-cp312-cp312-win_amd64.whl (301 kB)\n",
      "Installing collected packages: PyPDF2, wordcloud, py-readability-metrics\n",
      "Successfully installed PyPDF2-3.0.1 py-readability-metrics-1.4.5 wordcloud-1.9.4\n",
      "Note: you may need to restart the kernel to use updated packages.\n"
     ]
    }
   ],
   "source": [
    "pip install nltk PyPDF2 py-readability-metrics wordcloud matplotlib pandas\n"
   ]
  },
  {
   "cell_type": "markdown",
   "id": "ae691ecd-f7d5-4c2f-8652-1bf893b29299",
   "metadata": {},
   "source": [
    "# Assignment 1 — NLTK + VADER Sentiment, Readability & Word Clouds\n",
    "**Goal:** Compare two news articles on the same topic from different sources."
   ]
  },
  {
   "cell_type": "code",
   "execution_count": 12,
   "id": "f3948c88-6c46-4fb9-8b1a-d66895d933eb",
   "metadata": {},
   "outputs": [
    {
     "name": "stdout",
     "output_type": "stream",
     "text": [
      "Requirement already satisfied: py-readability-metrics in c:\\users\\tavis\\anaconda3\\lib\\site-packages (1.4.5)\n",
      "Requirement already satisfied: nltk in c:\\users\\tavis\\anaconda3\\lib\\site-packages (from py-readability-metrics) (3.9.1)\n",
      "Requirement already satisfied: click in c:\\users\\tavis\\anaconda3\\lib\\site-packages (from nltk->py-readability-metrics) (8.1.7)\n",
      "Requirement already satisfied: joblib in c:\\users\\tavis\\anaconda3\\lib\\site-packages (from nltk->py-readability-metrics) (1.4.2)\n",
      "Requirement already satisfied: regex>=2021.8.3 in c:\\users\\tavis\\anaconda3\\lib\\site-packages (from nltk->py-readability-metrics) (2024.9.11)\n",
      "Requirement already satisfied: tqdm in c:\\users\\tavis\\anaconda3\\lib\\site-packages (from nltk->py-readability-metrics) (4.66.5)\n",
      "Requirement already satisfied: colorama in c:\\users\\tavis\\anaconda3\\lib\\site-packages (from click->nltk->py-readability-metrics) (0.4.6)\n"
     ]
    }
   ],
   "source": [
    "!pip install py-readability-metrics\n"
   ]
  },
  {
   "cell_type": "code",
   "execution_count": 24,
   "id": "e4a17813-2139-4c9f-9138-8398e818dc64",
   "metadata": {},
   "outputs": [
    {
     "name": "stderr",
     "output_type": "stream",
     "text": [
      "[nltk_data] Downloading package punkt to\n",
      "[nltk_data]     C:\\Users\\tavis\\AppData\\Roaming\\nltk_data...\n",
      "[nltk_data]   Unzipping tokenizers\\punkt.zip.\n",
      "[nltk_data] Downloading package stopwords to\n",
      "[nltk_data]     C:\\Users\\tavis\\AppData\\Roaming\\nltk_data...\n",
      "[nltk_data]   Unzipping corpora\\stopwords.zip.\n",
      "[nltk_data] Downloading package vader_lexicon to\n",
      "[nltk_data]     C:\\Users\\tavis\\AppData\\Roaming\\nltk_data...\n"
     ]
    },
    {
     "data": {
      "text/plain": [
       "True"
      ]
     },
     "execution_count": 24,
     "metadata": {},
     "output_type": "execute_result"
    }
   ],
   "source": [
    "import re, os, math, pandas as pd, matplotlib.pyplot as plt\n",
    "from nltk import download, sent_tokenize\n",
    "from nltk.corpus import stopwords\n",
    "from nltk.sentiment import SentimentIntensityAnalyzer\n",
    "from wordcloud import WordCloud, STOPWORDS\n",
    "from PyPDF2 import PdfReader\n",
    "import textstat\n",
    "\n",
    "# Download required NLTK resources (first run only)\n",
    "download('punkt')\n",
    "download('stopwords')\n",
    "download('vader_lexicon')"
   ]
  },
  {
   "cell_type": "code",
   "execution_count": 22,
   "id": "99674178-cdc7-483d-9561-4a851347e31d",
   "metadata": {},
   "outputs": [
    {
     "name": "stdout",
     "output_type": "stream",
     "text": [
      "Collecting textstat\n",
      "  Downloading textstat-0.7.10-py3-none-any.whl.metadata (15 kB)\n",
      "Collecting pyphen (from textstat)\n",
      "  Downloading pyphen-0.17.2-py3-none-any.whl.metadata (3.2 kB)\n",
      "Requirement already satisfied: nltk in c:\\users\\tavis\\anaconda3\\lib\\site-packages (from textstat) (3.9.1)\n",
      "Requirement already satisfied: setuptools in c:\\users\\tavis\\anaconda3\\lib\\site-packages (from textstat) (75.1.0)\n",
      "Requirement already satisfied: click in c:\\users\\tavis\\anaconda3\\lib\\site-packages (from nltk->textstat) (8.1.7)\n",
      "Requirement already satisfied: joblib in c:\\users\\tavis\\anaconda3\\lib\\site-packages (from nltk->textstat) (1.4.2)\n",
      "Requirement already satisfied: regex>=2021.8.3 in c:\\users\\tavis\\anaconda3\\lib\\site-packages (from nltk->textstat) (2024.9.11)\n",
      "Requirement already satisfied: tqdm in c:\\users\\tavis\\anaconda3\\lib\\site-packages (from nltk->textstat) (4.66.5)\n",
      "Requirement already satisfied: colorama in c:\\users\\tavis\\anaconda3\\lib\\site-packages (from click->nltk->textstat) (0.4.6)\n",
      "Downloading textstat-0.7.10-py3-none-any.whl (239 kB)\n",
      "Downloading pyphen-0.17.2-py3-none-any.whl (2.1 MB)\n",
      "   ---------------------------------------- 0.0/2.1 MB ? eta -:--:--\n",
      "   ---------------------------------------- 2.1/2.1 MB 29.3 MB/s eta 0:00:00\n",
      "Installing collected packages: pyphen, textstat\n",
      "Successfully installed pyphen-0.17.2 textstat-0.7.10\n"
     ]
    }
   ],
   "source": [
    "!pip install textstat\n"
   ]
  },
  {
   "cell_type": "code",
   "execution_count": null,
   "id": "4a2f04ca-19ed-4042-a04c-4dc4644f4874",
   "metadata": {},
   "outputs": [],
   "source": []
  }
 ],
 "metadata": {
  "kernelspec": {
   "display_name": "Python 3 (ipykernel)",
   "language": "python",
   "name": "python3"
  },
  "language_info": {
   "codemirror_mode": {
    "name": "ipython",
    "version": 3
   },
   "file_extension": ".py",
   "mimetype": "text/x-python",
   "name": "python",
   "nbconvert_exporter": "python",
   "pygments_lexer": "ipython3",
   "version": "3.12.7"
  }
 },
 "nbformat": 4,
 "nbformat_minor": 5
}
